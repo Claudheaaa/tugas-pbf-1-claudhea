{
  "nbformat": 4,
  "nbformat_minor": 0,
  "metadata": {
    "colab": {
      "provenance": []
    },
    "kernelspec": {
      "name": "python3",
      "display_name": "Python 3"
    },
    "language_info": {
      "name": "python"
    }
  },
  "cells": [
    {
      "cell_type": "markdown",
      "source": [
        "## Nama : Claudhea Angeliani\n",
        "\n",
        "## NIM : 121450124\n",
        "\n",
        "## Prodi : Sains Data"
      ],
      "metadata": {
        "id": "bnvqTFCVWaw6"
      }
    },
    {
      "cell_type": "markdown",
      "source": [
        "## 1.\tJelaskan menggunakan tabel mengenai kelebihan dan kekurangan paradigma procedural dibandingkan dengan object oriented (minimal 3) !"
      ],
      "metadata": {
        "id": "3RZ6C5MBWpOc"
      }
    },
    {
      "cell_type": "markdown",
      "source": [
        "## Kelebihan dan Kekurangan Object Oriented Dibandingkan Functional\n",
        "\n",
        "<table>\n",
        "        <tr>\n",
        "            <th bgcolor=\"blue\">No</th>\n",
        "            <th bgcolor=\"blue\">Object Oriented</th>\n",
        "            <th bgcolor=\"blue\">Kelebihan Procedure</th>\n",
        "            <th bgcolor=\"blue\">Kekurangan Procedure</th>\n",
        "        </tr>\n",
        "        <tr>\n",
        "            <td>1</td> \n",
        "            <td>Fungsi dan data dijadikan menjadi satu yaitu dalam bentuk <br> objek dan objek-objeknya yang akan menyelesaikan masalah.</td>\n",
        "            <td>Pemrograman tersusun secara logis, sistematis dan terdapat <br>langkah-langkah yang jelas sehingga lebih mudah di pahami</td>\n",
        "            <td> </td>\n",
        "        </tr>\n",
        "        <tr>\n",
        "            <td>2</td>\n",
        "            <td>Memerlukan memori yang lebih besar.</td>\n",
        "            <td>Memerlukan memori lebih sedikit dari OOP.</td>\n",
        "            <td></td>\n",
        "        </tr>\n",
        "        <tr>\n",
        "            <td>3</td>\n",
        "            <td>Data  tidak bebas bergerak disatuan sistem dari fungsi lain.</td>\n",
        "            <td>Data bebas bergerak disatuan sistem dari fungsi lain.</td>\n",
        "            <td></td>\n",
        "        </tr>\n",
        "        <tr>\n",
        "            <td>4</td>\n",
        "            <td>Model data berorientasi objek memberi fleksibilitas yang lebih, <br> kemudahan mengubah program, dan digunakan dalam skala besar.</td>\n",
        "            <td></td>\n",
        "            <td>Fungsi yang tersedia sulit untuk diubah tanpa harus mempengaruhi <br>fungsi sistem secara keseluruhan.</td>\n",
        "        </tr>\n",
        "            <td>5</td>\n",
        "            <td>Data dalam bentuk objek dalam OOP bersifat aktif.</td>\n",
        "            <td> </td>\n",
        "            <td>Data bersifat pasif.</td>\n",
        "        </tr>\n",
        "        <tr>\n",
        "            <td>6</td>\n",
        "            <td>Karena fungsi dapat diubah tanpa mengubah keseluruhan sistem,<br> maka perawatannya lebih murah dan mudah.</td>\n",
        "            <td></td>\n",
        "            <td>Fungsinya memerlukan banyak perawatan dan juga sulit untuk <br>proses perawatan.</td>\n",
        "        </tr>\n",
        "        <tr>\n",
        "            <td>7</td>\n",
        "            <td>Menggunakan bahasa ‘people oriented’ sehingga lebih mudah <br>dipahami.</td>\n",
        "            <td></td>\n",
        "            <td>Bahasanya ‘mechine oriented’ sehingga sulit dipahami manusia.</td>\n",
        "        </tr>\n",
        "</table>"
      ],
      "metadata": {
        "id": "RmtGnyISsrdK"
      }
    },
    {
      "cell_type": "markdown",
      "source": [
        "## 2.\tJelaskan menggunakan tabel mengenai kelebihan dan kekurangan paradigma object oriented dibandingkan dengan functional (minimal 3) !"
      ],
      "metadata": {
        "id": "tqebs34Lvjpt"
      }
    },
    {
      "cell_type": "markdown",
      "source": [
        "<table>\n",
        "        <tr>\n",
        "            <th bgcolor=\"darkorange\">No</th>\n",
        "            <th bgcolor=\"darkorange\">Functional</th>\n",
        "            <th bgcolor=\"darkorange\">Kelebihan Object Oriented</th>\n",
        "            <th bgcolor=\"darkorange\">Kekurangan Object Oriented</th>\n",
        "        </tr>\n",
        "        <tr>\n",
        "            <td>1</td>\n",
        "            <td>Elemen fundamental yang digunakan adalah variabel dan fungsi <br> sehingga data didalam fungsi tidak dapat diubah.</td>\n",
        "            <td>Elemen fundamental yang digunakan adalah objek dan <br> method sehingga data dapat diubah (bersifat aktif)</td>\n",
        "            <td> </td>\n",
        "        </tr>\n",
        "        <tr>\n",
        "            <td>2</td>\n",
        "            <td>Mengikuti model pemrograman deklaratif</td>\n",
        "            <td>Mengikuti model pemrograman imperatif.</td>\n",
        "            <td></td>\n",
        "        </tr>\n",
        "        <tr>\n",
        "            <td>3</td>\n",
        "            <td>Tidak memiliki pilihan akses apapun.</td>\n",
        "            <td>Memiliki 3 jenis akses yaitu public, private dan protected.</td>\n",
        "            <td></td>\n",
        "        </tr>\n",
        "        <tr>\n",
        "            <td>4</td>\n",
        "            <td>Mendukung pemrograman yang dilakukan secara paralel.</td>\n",
        "            <td></td>\n",
        "            <td>Tidak mendukung pemrograman paralel yang artinya terbatas.</td>\n",
        "        </tr>\n",
        "        <tr>\n",
        "            <td>5</td>\n",
        "            <td>Stetement dalam functional programming tidak memerlukan <br> langkah runut/urutan tertentu saat dijalankan.</td>\n",
        "            <td> </td>\n",
        "            <td>Stetement OOP harus runut dan mengikuti urutan yang telah <br>ditetapkan saat dijalankan.</td>\n",
        "        </tr>\n",
        "        <tr>\n",
        "            <td>6</td>\n",
        "            <td>Konsep functional programming memisahkan data dan method <br> serta abstraksi tingkat tinggi dapat meminimalisir terjadinya <br> kesalahan/errors.</td>\n",
        "            <td></td>\n",
        "            <td>Konsep OOP yang berbasis objek serta harus urut membuat program <br>memiliki resiko error tinggi sebab jika program awal error, maka program <br>akhirnya pun ikut error.</td>\n",
        "        </tr>\n",
        "</table>"
      ],
      "metadata": {
        "id": "xmErSifLvcFl"
      }
    },
    {
      "cell_type": "markdown",
      "source": [
        "## 3. Jelaskan menggunakan tabel mengenai kelebihan dan kekurangan paradigma procedural dibandingkan dengan functional (minimal 3)!"
      ],
      "metadata": {
        "id": "BrG7yWtRykzS"
      }
    },
    {
      "cell_type": "markdown",
      "source": [
        "### Kelebihan dan Kekurangan Object Oriented Dibandingkan Functional\n",
        "\n",
        "<table>\n",
        "        <tr>\n",
        "            <th bgcolor=\"darkgreen\">No</th>\n",
        "            <th bgcolor=\"darkgreen\">Functional</th>\n",
        "            <th bgcolor=\"darkgreen\">Kelebihan Procedure</th>\n",
        "            <th bgcolor=\"darkgreen\">Kekurangan Procedure</th>\n",
        "        </tr>\n",
        "        <tr>\n",
        "            <td>1</td>\n",
        "            <td>Functional programming membutuhkan sebuah parameter.</td>\n",
        "            <td>Procedure dapat digunakan tanpa menggunakan parameter.</td>\n",
        "            <td> </td>\n",
        "        </tr>\n",
        "        <tr>\n",
        "            <td>2</td>\n",
        "            <td>Cenderung menghindari pengubahan/pergerakan data.</td>\n",
        "            <td>Data bebas bergerak disatuan sistem dari fungsi lain.</td>\n",
        "            <td></td>\n",
        "        </tr>\n",
        "        <tr>\n",
        "            <td>3</td>\n",
        "            <td>Melibatkan komputasi dan banyak fungsi matematika.</td>\n",
        "            <td>Programna sederhana sehingga mempermudah pemahaman <br> program.</td>\n",
        "            <td></td>\n",
        "        </tr>\n",
        "        <tr>\n",
        "            <td>4</td>\n",
        "            <td>Stetement dalam functional programming tidak memerlukan langkah <br> runut/urutan tertentu saat dijalankan.</td>\n",
        "            <td></td>\n",
        "            <td>Stetement OOP harus runut dan mengikuti urutan yang telah ditetapkan <br> saat dijalankan.</td>\n",
        "        </tr>\n",
        "        <tr>\n",
        "            <td>5</td>\n",
        "            <td>Konsep functional programming memisahkan data dan method serta <br> abstraksi tingkat tinggi sehingga paling meminimalisir terjadinya errors.</td>\n",
        "            <td> </td>\n",
        "            <td>Fungsi yang tersedia sulit untuk diubah tanpa harus mempengaruhi fungsi <br> sistem secara keseluruhan.</td>\n",
        "        </tr>\n",
        "        <tr>\n",
        "            <td>6</td>\n",
        "            <td>Nilai functional programming dapat dikonversikan dalam bentuk <br> variable.</td>\n",
        "            <td></td>\n",
        "            <td>Nilai procedure tidak dapat mengkonversikan nilainya.</td>\n",
        "        </tr>\n",
        "</table>"
      ],
      "metadata": {
        "id": "irkyK2qjyz0d"
      }
    },
    {
      "cell_type": "markdown",
      "source": [
        "## 4. Apa yang dimaksud dengan pure functional programming language?"
      ],
      "metadata": {
        "id": "5bE9oU0sqfKf"
      }
    },
    {
      "cell_type": "markdown",
      "source": [
        "*Pure functional programming* adalah fungsi yang melakukan suatu operasi yang dimana hasilnya hanya bergantung dari input fungsi tanpa mengubah nilai dari varabel apapun. *Pure functional* juga tidak menimbulkan efek samping."
      ],
      "metadata": {
        "id": "ZuhtpOKbqjBd"
      }
    },
    {
      "cell_type": "markdown",
      "source": [
        "## 5. Dari bahasa pemrograman FP di slide sebelumnya ( slide 14 ), manakah yang termasuk pure functional programming language?"
      ],
      "metadata": {
        "id": "ausz_VFCquK1"
      }
    },
    {
      "cell_type": "markdown",
      "source": [
        "Haskell"
      ],
      "metadata": {
        "id": "PzEVSecQq1AP"
      }
    },
    {
      "cell_type": "markdown",
      "source": [
        "## 6.\tMembuat program Simple Password encryption, dengan ketentuan\n",
        "### 1. Input password bertipe string dengan batasan panjang password 100 karakter\n",
        "### 2. Setiap karakter dari string tersebut diubah menjadi ASCII value\n",
        "### 3. Kemudian setiap ASCII value tersebut dikembangkan menjadi 3 value dengan dilakukan operasi berikut:\n",
        "1. Value pertama dibagi dengan integer 26 kemudian dibulatkan dan dijumlahkan dengan 80 kemudian diubah kembali menjadi karakter\n",
        "2. Value kedua dihitung sisa bagi dengan 26 kemudian dijumlahkan dengan kemudian diubah kembali menjadi karakter\n",
        "3. Value ketiga adalah karakter ‘+’ jika value pertama lebih besar dari value kedua, atau value ketiga adalah karakter ‘-’ jika value pertama tidak lebih besar dari value kedua\n",
        "\n",
        "###4. Deretkan value pertama, kedua dan ketiga untuk setiap karakter dalam password tersebut sehingga didapatkan password dalam bentuk baru \n"
      ],
      "metadata": {
        "id": "O3dz6OleyQqu"
      }
    },
    {
      "cell_type": "code",
      "execution_count": 2,
      "metadata": {
        "id": "Lj1wlIQzWZgC"
      },
      "outputs": [],
      "source": [
        "def enkripsi(password_clau):\n",
        "  if len(password_clau) > 100 or len(password_clau) == 0:\n",
        "    print(\"Masukkan 1-100 Karakter Password\")\n",
        "  else:\n",
        "    ascii = [str(ord(s)) for  s in password_clau]\n",
        "    enkripsi_pw = ''.join(chr((int(y)//26)+80)+chr((int(y)%26)+80)+('+' if (int(y)//26)+80 > (int(y)%26)+80 else '-') for  y in ascii)\n",
        "    print(\"Enkripsi Password: \", enkripsi_pw)\n",
        "\n",
        "def dekripsi(password_clau):\n",
        "  split_password = [(password_clau[i:i+3]) for i in range(0, len(password_clau), 3)]\n",
        "  dekripsi_pw = ''.join(chr(((ord(list(f)[0])-80)*26)+(ord(list(f)[1])-80)) for f in split_password)\n",
        "  print(\"Password Asli: \", dekripsi_pw)"
      ]
    },
    {
      "cell_type": "markdown",
      "source": [
        "2. Apakah output yang dihasilkan dari kode tersebut jika input password adalah 'akucintagedungf' ?"
      ],
      "metadata": {
        "id": "glafuB_G4P2K"
      }
    },
    {
      "cell_type": "code",
      "source": [
        "password_clau = input(\"Masukkan Password Asli Anda: \")\n",
        "enkripsi(password_clau)"
      ],
      "metadata": {
        "colab": {
          "base_uri": "https://localhost:8080/"
        },
        "id": "0mjT-xAb2UrK",
        "outputId": "84e0e8ac-9cee-4493-d4e9-2b004f0cc8a3"
      },
      "execution_count": 3,
      "outputs": [
        {
          "output_type": "stream",
          "name": "stdout",
          "text": [
            "Masukkan Password Asli Anda: akucintagedungf\n",
            "Enkripsi Password:  Sc-TS+T]-Se-TQ+TV-T\\-Sc-Si-Sg-Sf-T]-TV-Si-Sh-\n"
          ]
        }
      ]
    },
    {
      "cell_type": "markdown",
      "source": [
        "3. User tersebut lupa password yang asli dari inputan sebelumnya, password setelah dienkripsi adalah Sc-TS+T]-Se-TQ+TV-T\\-Sc-Si-Sg-Sf-T]-TV-Si-Sh- Bantulah user tersebut mendapatkan password asli nya!"
      ],
      "metadata": {
        "id": "L8FQqEel4fzC"
      }
    },
    {
      "cell_type": "code",
      "source": [
        "enkripsi_password = input(\"Masukkan Enkripsi Password Anda: \")\n",
        "dekripsi(enkripsi_password)"
      ],
      "metadata": {
        "colab": {
          "base_uri": "https://localhost:8080/"
        },
        "id": "Zh5A63n22X_D",
        "outputId": "a7572f39-f57e-41be-f066-1dda8d0d8bed"
      },
      "execution_count": 4,
      "outputs": [
        {
          "output_type": "stream",
          "name": "stdout",
          "text": [
            "Masukkan Enkripsi Password Anda: Sc-TS+T]-Se-TQ+TV-T\\-Sc-Si-Sg-Sf-T]-TV-Si-Sh-\n",
            "Password Asli:  akucintagedungf\n"
          ]
        }
      ]
    }
  ]
}